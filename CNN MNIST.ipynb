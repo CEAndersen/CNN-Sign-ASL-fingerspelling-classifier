{
 "cells": [
  {
   "cell_type": "markdown",
   "metadata": {},
   "source": [
    "# CNN for the american sign language alphabet testet on the digit MNIST data"
   ]
  },
  {
   "cell_type": "markdown",
   "metadata": {},
   "source": [
    "#### Libraries  "
   ]
  },
  {
   "cell_type": "code",
   "execution_count": null,
   "metadata": {},
   "outputs": [],
   "source": [
    "import os  #Directory made easier \n",
    "import tensorflow as tf #For building the neural network(Using tensorflow 2.0)\n",
    "from tensorflow import keras\n",
    "from tensorflow.keras import datasets, layers, models\n",
    "from keras.utils import to_categorical\n",
    "import numpy as np #For dataframe organisations\n",
    "import pandas as pd #For dataframe organisations\n",
    "from matplotlib import pyplot as plt #For plotting \n",
    "import matplotlib.pyplot as plt #For plotting \n",
    "import operator\n",
    "import sys\n",
    "from keras.datasets import mnist #The digit MNIST dataset \n",
    "\n"
   ]
  },
  {
   "cell_type": "markdown",
   "metadata": {},
   "source": [
    "#### Loading the data  "
   ]
  },
  {
   "cell_type": "code",
   "execution_count": 11,
   "metadata": {},
   "outputs": [],
   "source": [
    "(X_train, y_train), (X_test, y_test) = mnist.load_data()"
   ]
  },
  {
   "cell_type": "markdown",
   "metadata": {},
   "source": [
    "#### Reorganize the data to fit into the neural network"
   ]
  },
  {
   "cell_type": "code",
   "execution_count": 12,
   "metadata": {},
   "outputs": [],
   "source": [
    "\n",
    "X_train = x_train.reshape(60000, 28,28,1) #60000 pictures, which are 28*28 pixels and greyscaled \n",
    "X_test = x_test.reshape(10000, 28, 28, 1)\n",
    "\n",
    "y_train_one_hot = to_categorical(y_train) #One hot encoding to fit into CNN \n",
    "y_test_one_hot = to_categorical(y_test)\n"
   ]
  },
  {
   "cell_type": "code",
   "execution_count": null,
   "metadata": {},
   "outputs": [],
   "source": [
    "#### This network is a copy of the CNN for the sign language MNIST "
   ]
  },
  {
   "cell_type": "code",
   "execution_count": 5,
   "metadata": {},
   "outputs": [],
   "source": [
    "\n",
    "model = models.Sequential() #Seuential becuase I have just one input type and one output \n",
    "model.add(layers.Conv2D(64, (3, 3), strides=(1,1),padding='same', activation='relu', input_shape=(28, 28, 1))) #Convolutional layer\n",
    "model.add(layers.MaxPooling2D((2, 2))) #Maxpooling layer\n",
    "model.add(layers.Conv2D(filters=16, kernel_size=(3,3),strides=(1,1),padding='same',activation='relu')) #Convolutional layer\n",
    "model.add(layers.Dropout(0.3)) #Dropout layer\n",
    "model.add(layers.Conv2D(32, (3, 3), strides=(1,1),padding='same', activation='relu', input_shape=(28, 28, 1))) #Convolutional layer\n",
    "model.add(layers.MaxPooling2D((4, 4))) #Maxpooling layer\n",
    "model.add(layers.Dropout(0.3))\n",
    "model.add(layers.Dense(128, activation='relu')) #Normal dense layer with relu activation\n",
    "model.add(layers.Flatten()) #Flattining layer\n",
    "model.add(layers.Dropout(0.3))\n",
    "model.add(layers.Dense(26, activation='softmax')) #Normal dense layer with softmax activation\n"
   ]
  },
  {
   "cell_type": "markdown",
   "metadata": {},
   "source": [
    "#### fitting the model to the data "
   ]
  },
  {
   "cell_type": "code",
   "execution_count": 6,
   "metadata": {},
   "outputs": [
    {
     "name": "stdout",
     "output_type": "stream",
     "text": [
      "Train on 60000 samples, validate on 10000 samples\n",
      "Epoch 1/50\n",
      "60000/60000 [==============================] - 93s 2ms/sample - loss: 0.5606 - accuracy: 0.8322 - val_loss: 0.1168 - val_accuracy: 0.9692\n",
      "Epoch 2/50\n",
      "60000/60000 [==============================] - 102s 2ms/sample - loss: 0.1958 - accuracy: 0.9394 - val_loss: 0.0805 - val_accuracy: 0.9771\n",
      "Epoch 3/50\n",
      "60000/60000 [==============================] - 87s 1ms/sample - loss: 0.1593 - accuracy: 0.9507 - val_loss: 0.0732 - val_accuracy: 0.9795\n",
      "Epoch 4/50\n",
      "60000/60000 [==============================] - 87s 1ms/sample - loss: 0.1390 - accuracy: 0.9561 - val_loss: 0.0610 - val_accuracy: 0.9816\n",
      "Epoch 5/50\n",
      "60000/60000 [==============================] - 88s 1ms/sample - loss: 0.1283 - accuracy: 0.9608 - val_loss: 0.0812 - val_accuracy: 0.9759\n",
      "Epoch 6/50\n",
      "60000/60000 [==============================] - 90s 1ms/sample - loss: 0.1191 - accuracy: 0.9624 - val_loss: 0.0644 - val_accuracy: 0.9807\n",
      "Epoch 7/50\n",
      "60000/60000 [==============================] - 87s 1ms/sample - loss: 0.1153 - accuracy: 0.9646 - val_loss: 0.0631 - val_accuracy: 0.9804\n",
      "Epoch 8/50\n",
      "60000/60000 [==============================] - 86s 1ms/sample - loss: 0.1087 - accuracy: 0.9662 - val_loss: 0.0522 - val_accuracy: 0.9835\n",
      "Epoch 9/50\n",
      "60000/60000 [==============================] - 87s 1ms/sample - loss: 0.1083 - accuracy: 0.9665 - val_loss: 0.0506 - val_accuracy: 0.9841\n",
      "Epoch 10/50\n",
      "60000/60000 [==============================] - 89s 1ms/sample - loss: 0.1063 - accuracy: 0.9667 - val_loss: 0.0658 - val_accuracy: 0.9803\n",
      "Epoch 11/50\n",
      "60000/60000 [==============================] - 132s 2ms/sample - loss: 0.1091 - accuracy: 0.9665 - val_loss: 0.0448 - val_accuracy: 0.9855\n",
      "Epoch 12/50\n",
      "60000/60000 [==============================] - 105s 2ms/sample - loss: 0.1045 - accuracy: 0.9680 - val_loss: 0.0473 - val_accuracy: 0.9847\n",
      "Epoch 13/50\n",
      "60000/60000 [==============================] - 100s 2ms/sample - loss: 0.1051 - accuracy: 0.9675 - val_loss: 0.0521 - val_accuracy: 0.9833\n",
      "Epoch 14/50\n",
      "60000/60000 [==============================] - 112s 2ms/sample - loss: 0.1026 - accuracy: 0.9681 - val_loss: 0.0429 - val_accuracy: 0.9869\n",
      "Epoch 15/50\n",
      "60000/60000 [==============================] - 103s 2ms/sample - loss: 0.1026 - accuracy: 0.9685 - val_loss: 0.0546 - val_accuracy: 0.9836\n",
      "Epoch 16/50\n",
      "60000/60000 [==============================] - 109s 2ms/sample - loss: 0.0994 - accuracy: 0.9692 - val_loss: 0.0496 - val_accuracy: 0.9844\n",
      "Epoch 17/50\n",
      "60000/60000 [==============================] - 106s 2ms/sample - loss: 0.0989 - accuracy: 0.9691 - val_loss: 0.0458 - val_accuracy: 0.9861\n",
      "Epoch 18/50\n",
      "60000/60000 [==============================] - 110s 2ms/sample - loss: 0.0992 - accuracy: 0.9690 - val_loss: 0.0497 - val_accuracy: 0.9832\n",
      "Epoch 19/50\n",
      "60000/60000 [==============================] - 110s 2ms/sample - loss: 0.0978 - accuracy: 0.9692 - val_loss: 0.0460 - val_accuracy: 0.9853\n",
      "Epoch 20/50\n",
      "60000/60000 [==============================] - 120s 2ms/sample - loss: 0.0981 - accuracy: 0.9703 - val_loss: 0.0496 - val_accuracy: 0.9845\n",
      "Epoch 21/50\n",
      "60000/60000 [==============================] - 102s 2ms/sample - loss: 0.0980 - accuracy: 0.9697 - val_loss: 0.0616 - val_accuracy: 0.9797\n",
      "Epoch 22/50\n",
      "60000/60000 [==============================] - 110s 2ms/sample - loss: 0.0986 - accuracy: 0.9694 - val_loss: 0.0437 - val_accuracy: 0.9869\n",
      "Epoch 23/50\n",
      "60000/60000 [==============================] - 87s 1ms/sample - loss: 0.0950 - accuracy: 0.9705 - val_loss: 0.0385 - val_accuracy: 0.9864\n",
      "Epoch 24/50\n",
      "60000/60000 [==============================] - 86s 1ms/sample - loss: 0.0940 - accuracy: 0.9702 - val_loss: 0.0413 - val_accuracy: 0.9868\n",
      "Epoch 25/50\n",
      "60000/60000 [==============================] - 86s 1ms/sample - loss: 0.0993 - accuracy: 0.9691 - val_loss: 0.0459 - val_accuracy: 0.9856\n",
      "Epoch 26/50\n",
      "60000/60000 [==============================] - 89s 1ms/sample - loss: 0.0962 - accuracy: 0.9706 - val_loss: 0.0388 - val_accuracy: 0.9873\n",
      "Epoch 27/50\n",
      "60000/60000 [==============================] - 116s 2ms/sample - loss: 0.0939 - accuracy: 0.9705 - val_loss: 0.0346 - val_accuracy: 0.9884\n",
      "Epoch 28/50\n",
      "60000/60000 [==============================] - 103s 2ms/sample - loss: 0.0996 - accuracy: 0.9692 - val_loss: 0.0442 - val_accuracy: 0.9846\n",
      "Epoch 29/50\n",
      "60000/60000 [==============================] - 108s 2ms/sample - loss: 0.0920 - accuracy: 0.9722 - val_loss: 0.0437 - val_accuracy: 0.9850\n",
      "Epoch 30/50\n",
      "60000/60000 [==============================] - 113s 2ms/sample - loss: 0.0952 - accuracy: 0.9704 - val_loss: 0.0457 - val_accuracy: 0.9847\n",
      "Epoch 31/50\n",
      "60000/60000 [==============================] - 104s 2ms/sample - loss: 0.0954 - accuracy: 0.9712 - val_loss: 0.0578 - val_accuracy: 0.9805\n",
      "Epoch 32/50\n",
      "60000/60000 [==============================] - 109s 2ms/sample - loss: 0.0985 - accuracy: 0.9702 - val_loss: 0.0509 - val_accuracy: 0.9842\n",
      "Epoch 33/50\n",
      "60000/60000 [==============================] - 112s 2ms/sample - loss: 0.0943 - accuracy: 0.9709 - val_loss: 0.0428 - val_accuracy: 0.9857\n",
      "Epoch 34/50\n",
      "60000/60000 [==============================] - 106s 2ms/sample - loss: 0.0937 - accuracy: 0.9713 - val_loss: 0.0410 - val_accuracy: 0.9873\n",
      "Epoch 35/50\n",
      "60000/60000 [==============================] - 91s 2ms/sample - loss: 0.0962 - accuracy: 0.9696 - val_loss: 0.0467 - val_accuracy: 0.9855\n",
      "Epoch 36/50\n",
      "60000/60000 [==============================] - 85s 1ms/sample - loss: 0.0970 - accuracy: 0.9700 - val_loss: 0.0583 - val_accuracy: 0.9811\n",
      "Epoch 37/50\n",
      "60000/60000 [==============================] - 86s 1ms/sample - loss: 0.0971 - accuracy: 0.9696 - val_loss: 0.0394 - val_accuracy: 0.9878\n",
      "Epoch 38/50\n",
      "60000/60000 [==============================] - 102s 2ms/sample - loss: 0.1013 - accuracy: 0.9694 - val_loss: 0.0515 - val_accuracy: 0.9825\n",
      "Epoch 39/50\n",
      "60000/60000 [==============================] - 91s 2ms/sample - loss: 0.0943 - accuracy: 0.9711 - val_loss: 0.0467 - val_accuracy: 0.9838\n",
      "Epoch 40/50\n",
      "60000/60000 [==============================] - 89s 1ms/sample - loss: 0.0926 - accuracy: 0.9720 - val_loss: 0.0401 - val_accuracy: 0.9861\n",
      "Epoch 41/50\n",
      "60000/60000 [==============================] - 92s 2ms/sample - loss: 0.0963 - accuracy: 0.9701 - val_loss: 0.0425 - val_accuracy: 0.9847\n",
      "Epoch 42/50\n",
      "60000/60000 [==============================] - 89s 1ms/sample - loss: 0.0958 - accuracy: 0.9704 - val_loss: 0.0408 - val_accuracy: 0.9868\n",
      "Epoch 43/50\n",
      "60000/60000 [==============================] - 89s 1ms/sample - loss: 0.0924 - accuracy: 0.9719 - val_loss: 0.0397 - val_accuracy: 0.9861\n",
      "Epoch 44/50\n",
      "60000/60000 [==============================] - 89s 1ms/sample - loss: 0.0951 - accuracy: 0.9701 - val_loss: 0.0510 - val_accuracy: 0.9829\n",
      "Epoch 45/50\n",
      "60000/60000 [==============================] - 88s 1ms/sample - loss: 0.0948 - accuracy: 0.9713 - val_loss: 0.0424 - val_accuracy: 0.9861\n",
      "Epoch 46/50\n",
      "60000/60000 [==============================] - 89s 1ms/sample - loss: 0.0939 - accuracy: 0.9707 - val_loss: 0.0432 - val_accuracy: 0.9856\n",
      "Epoch 47/50\n",
      "60000/60000 [==============================] - 91s 2ms/sample - loss: 0.0937 - accuracy: 0.9716 - val_loss: 0.0480 - val_accuracy: 0.9837\n",
      "Epoch 48/50\n",
      "60000/60000 [==============================] - 90s 1ms/sample - loss: 0.0930 - accuracy: 0.9706 - val_loss: 0.0405 - val_accuracy: 0.9874\n",
      "Epoch 49/50\n",
      "60000/60000 [==============================] - 94s 2ms/sample - loss: 0.0985 - accuracy: 0.9706 - val_loss: 0.0512 - val_accuracy: 0.9832\n",
      "Epoch 50/50\n",
      "60000/60000 [==============================] - 91s 2ms/sample - loss: 0.0951 - accuracy: 0.9705 - val_loss: 0.0445 - val_accuracy: 0.9852\n"
     ]
    }
   ],
   "source": [
    "model.compile(loss='sparse_categorical_crossentropy', optimizer='adam', metrics=['accuracy']) #Compile model \n",
    "\n",
    "history = model.fit(X_train, y_train, epochs=50, validation_data=(X_test, y_test)) #50 iterations. "
   ]
  },
  {
   "cell_type": "markdown",
   "metadata": {},
   "source": [
    "#### Plotting the accuracy and loss for all 50 iterations "
   ]
  },
  {
   "cell_type": "code",
   "execution_count": 7,
   "metadata": {},
   "outputs": [
    {
     "data": {
      "text/plain": [
       "Text(0.5, 1.0, 'Accuracy')"
      ]
     },
     "execution_count": 7,
     "metadata": {},
     "output_type": "execute_result"
    },
    {
     "data": {
      "image/png": "[encoded data removed]",
      "text/plain": [
       "<Figure size 432x288 with 1 Axes>"
      ]
     },
     "metadata": {
      "needs_background": "light"
     },
     "output_type": "display_data"
    }
   ],
   "source": [
    "\n",
    "#Accuracy vizualized to check for overfitting \n",
    "plt.plot(history.history['accuracy']);\n",
    "plt.plot(history.history['val_accuracy']);\n",
    "plt.legend(['training acc', 'validation acc']);\n",
    "plt.title('Accuracy')"
   ]
  },
  {
   "cell_type": "code",
   "execution_count": 8,
   "metadata": {},
   "outputs": [
    {
     "data": {
      "text/plain": [
       "Text(0.5, 1.0, 'Loss')"
      ]
     },
     "execution_count": 8,
     "metadata": {},
     "output_type": "execute_result"
    },
    {
     "data": {
      "image/png": "[encoded data removed]",
      "text/plain": [
       "<Figure size 432x288 with 1 Axes>"
      ]
     },
     "metadata": {
      "needs_background": "light"
     },
     "output_type": "display_data"
    }
   ],
   "source": [
    "import matplotlib.pyplot as plt\n",
    "plt.plot(history.history['loss']);\n",
    "plt.plot(history.history['val_loss']);\n",
    "plt.legend(['training loss', 'validation loss']);\n",
    "plt.title('Loss')"
   ]
  }
 ],
 "metadata": {
  "kernelspec": {
   "display_name": "Python 3",
   "language": "python",
   "name": "python3"
  },
  "language_info": {
   "codemirror_mode": {
    "name": "ipython",
    "version": 3
   },
   "file_extension": ".py",
   "mimetype": "text/x-python",
   "name": "python",
   "nbconvert_exporter": "python",
   "pygments_lexer": "ipython3",
   "version": "3.7.3"
  }
 },
 "nbformat": 4,
 "nbformat_minor": 2
}
